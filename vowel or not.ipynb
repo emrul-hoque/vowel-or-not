{
  "cells": [
    {
      "cell_type": "code",
      "source": [
        "# test whether a passed letter is a vowel or not\n",
        "\n",
        "vowels = [\"a\", \"e\", \"i\", \"o\", \"u\"]\n",
        "\n",
        "letter = str(input(\"\\nEnter an alphabet:\\t\"))\n",
        "\n",
        "if letter in vowels:\n",
        "   print(\"vowel\")\n",
        "else:\n",
        "   print(\"Not vowel\")\n",
        ""
      ],
      "metadata": {
        "colab": {
          "base_uri": "https://localhost:8080/"
        },
        "id": "GHmTFF0P38cn",
        "outputId": "ccbd5c6c-7e71-489b-bb3b-0d375c450e5c"
      },
      "execution_count": 14,
      "outputs": [
        {
          "output_type": "stream",
          "name": "stdout",
          "text": [
            "\n",
            "Enter an alphabet:\tu\n",
            "vowel\n"
          ]
        }
      ]
    }
  ],
  "metadata": {
    "colab": {
      "name": "Welcome to Colaboratory",
      "provenance": []
    },
    "kernelspec": {
      "display_name": "Python 3",
      "name": "python3"
    }
  },
  "nbformat": 4,
  "nbformat_minor": 0
}